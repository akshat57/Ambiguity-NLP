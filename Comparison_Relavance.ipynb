{
 "cells": [
  {
   "cell_type": "code",
   "execution_count": 1,
   "metadata": {},
   "outputs": [],
   "source": [
    "import json\n",
    "import matplotlib.pyplot as plt\n",
    "import matplotlib.image as mpimg\n",
    "import spacy\n",
    "from operator import itemgetter\n",
    "import numpy as np\n",
    "from matplotlib_venn import venn2, venn3\n",
    "\n",
    "nlp = spacy.load('en_core_web_sm')"
   ]
  },
  {
   "cell_type": "code",
   "execution_count": 2,
   "metadata": {},
   "outputs": [],
   "source": [
    "f = open('fashion_cleaned-tagged_shivangi.json',) \n",
    "shivangi = json.load(f)\n",
    "\n",
    "g = open('fashion_cleaned-tagged_cata.json',) \n",
    "cata = json.load(g)\n",
    "\n",
    "h = open('fashion_cleaned-tagged_uxue.json',) \n",
    "uxue = json.load(h)\n",
    "\n",
    "i = open('fashion_cleaned-tagged_marta.json',) \n",
    "marta = json.load(i)"
   ]
  },
  {
   "cell_type": "code",
   "execution_count": 3,
   "metadata": {},
   "outputs": [],
   "source": [
    "#N = min(len(shivangi[-1]), len(cata[-1]), len(uxue[-1]), len(marta[-1]))\n",
    "N = len(shivangi[-1])\n",
    "relevant_shivangi = set()\n",
    "for i in range(N):\n",
    "    if shivangi[-1][i][2] == '1':\n",
    "        relevant_shivangi.add(shivangi[-1][i][0])\n",
    "        \n",
    "N = len(cata[-1])\n",
    "relevant_cata = set()\n",
    "for i in range(N):\n",
    "    if cata[-1][i][2] == '1':\n",
    "        relevant_cata.add(cata[-1][i][0])\n",
    "        \n",
    "N = len(uxue[-1])\n",
    "relevant_uxue = set()\n",
    "for i in range(N):\n",
    "    if uxue[-1][i][2] == '1':\n",
    "        relevant_uxue.add(uxue[-1][i][0])\n",
    "\n",
    "N = len(marta[-1])\n",
    "relevant_marta = set()\n",
    "for i in range(N):\n",
    "    if marta[-1][i][2] == '1':\n",
    "        relevant_marta.add(marta[-1][i][0])\n",
    "\n"
   ]
  },
  {
   "cell_type": "code",
   "execution_count": 4,
   "metadata": {},
   "outputs": [],
   "source": [
    "#N = min(len(shivangi[-1]), len(cata[-1]), len(uxue[-1]), len(marta[-1]))\n",
    "N = len(shivangi[-1])\n",
    "nonrelevant_shivangi = set()\n",
    "for i in range(N):\n",
    "    if shivangi[-1][i][2] == '0':\n",
    "        nonrelevant_shivangi.add(shivangi[-1][i][0])\n",
    "        \n",
    "N = len(cata[-1])\n",
    "nonrelevant_cata = set()\n",
    "for i in range(N):\n",
    "    if cata[-1][i][2] == '0':\n",
    "        nonrelevant_cata.add(cata[-1][i][0])\n",
    "        \n",
    "N = len(uxue[-1])\n",
    "nonrelevant_uxue = set()\n",
    "for i in range(N):\n",
    "    if uxue[-1][i][2] == '0':\n",
    "        nonrelevant_uxue.add(uxue[-1][i][0])\n",
    "\n",
    "N = len(marta[-1])\n",
    "nonrelevant_marta = set()\n",
    "for i in range(N):\n",
    "    if marta[-1][i][2] == '0':\n",
    "        nonrelevant_marta.add(marta[-1][i][0])\n",
    "\n",
    "\n"
   ]
  },
  {
   "cell_type": "code",
   "execution_count": 27,
   "metadata": {},
   "outputs": [
    {
     "name": "stdout",
     "output_type": "stream",
     "text": [
      "SHIVANGI - RELEVANT:  0.5544554455445545  nonRELEVANT:  0.44554455445544555\n",
      "MARTA - RELEVANT:  0.8292682926829268  nonRELEVANT:  0.16910569105691056\n",
      "CATA - RELEVANT:  0.8542914171656687  nonRELEVANT:  0.14570858283433133\n",
      "UXUE - RELEVANT:  0.4735576923076923  nonRELEVANT:  0.5240384615384616\n"
     ]
    }
   ],
   "source": [
    "print('SHIVANGI - RELEVANT: ', len(relevant_shivangi)/len(shivangi[-1]), ' nonRELEVANT: ', len(nonrelevant_shivangi)/len(shivangi[-1]))\n",
    "print('MARTA - RELEVANT: ', len(relevant_marta)/len(marta[-1]), ' nonRELEVANT: ', len(nonrelevant_marta)/len(marta[-1]))\n",
    "print('CATA - RELEVANT: ', len(relevant_cata)/len(cata[-1]), ' nonRELEVANT: ', len(nonrelevant_cata)/len(cata[-1]))\n",
    "print('UXUE - RELEVANT: ', len(relevant_uxue)/len(uxue[-1]), ' nonRELEVANT: ', len(nonrelevant_uxue)/len(uxue[-1]))"
   ]
  },
  {
   "cell_type": "code",
   "execution_count": 13,
   "metadata": {},
   "outputs": [
    {
     "name": "stdout",
     "output_type": "stream",
     "text": [
      "SHIVANGIE-MARTA :  257   TOTAL WORDS:  505  RATIO:  0.5089108910891089\n",
      "SHIVANGIE-CATA :  266   TOTAL WORDS:  501  RATIO:  0.530938123752495\n",
      "SHIVANGIE-UXUE :  143   TOTAL WORDS:  416  RATIO:  0.34375\n",
      "CATA-MARTA :  382   TOTAL WORDS:  501  RATIO:  0.7624750499001997\n",
      "CATA-UXUE :  189   TOTAL WORDS:  416  RATIO:  0.4543269230769231\n",
      "MARTA-UXUE :  184   TOTAL WORDS:  416  RATIO:  0.4423076923076923\n"
     ]
    }
   ],
   "source": [
    "#COMPARING WORDS MARKED RELEVANT\n",
    "\n",
    "#TWO PEOPLE AT A TIME\n",
    "print('SHIVANGIE-MARTA : ', len(relevant_shivangi.intersection(relevant_marta)), '  TOTAL WORDS: ', min(len(shivangi[-1]), len(marta[-1])), ' RATIO: ', len(relevant_shivangi.intersection(relevant_marta))/min(len(shivangi[-1]), len(marta[-1])))\n",
    "print('SHIVANGIE-CATA : ', len(relevant_shivangi.intersection(relevant_cata)), '  TOTAL WORDS: ', min(len(shivangi[-1]), len(cata[-1])), ' RATIO: ', len(relevant_shivangi.intersection(relevant_cata))/min(len(shivangi[-1]), len(cata[-1])))\n",
    "print('SHIVANGIE-UXUE : ', len(relevant_shivangi.intersection(relevant_uxue)), '  TOTAL WORDS: ', min(len(shivangi[-1]), len(uxue[-1])), ' RATIO: ', len(relevant_shivangi.intersection(relevant_uxue))/min(len(shivangi[-1]), len(uxue[-1])))\n",
    "print('CATA-MARTA : ', len(relevant_cata.intersection(relevant_marta)), '  TOTAL WORDS: ', min(len(cata[-1]), len(marta[-1])), ' RATIO: ', len(relevant_cata.intersection(relevant_marta))/min(len(cata[-1]), len(marta[-1])))\n",
    "print('CATA-UXUE : ',len(relevant_cata.intersection(relevant_uxue)), '  TOTAL WORDS: ', min(len(cata[-1]), len(uxue[-1])), ' RATIO: ', len(relevant_cata.intersection(relevant_uxue))/min(len(cata[-1]), len(uxue[-1])))\n",
    "print('MARTA-UXUE : ',len(relevant_marta.intersection(relevant_uxue)), '  TOTAL WORDS: ', min(len(marta[-1]), len(uxue[-1])), ' RATIO: ', len(relevant_marta.intersection(relevant_uxue))/min(len(shivangi[-1]), len(uxue[-1])))"
   ]
  },
  {
   "cell_type": "code",
   "execution_count": 14,
   "metadata": {},
   "outputs": [
    {
     "name": "stdout",
     "output_type": "stream",
     "text": [
      "SHIVANGIE-MARTA :  57   TOTAL WORDS:  505  RATIO:  0.11287128712871287\n",
      "SHIVANGIE-CATA :  62   TOTAL WORDS:  501  RATIO:  0.12375249500998003\n",
      "SHIVANGIE-UXUE :  132   TOTAL WORDS:  416  RATIO:  0.3173076923076923\n",
      "CATA-MARTA :  35   TOTAL WORDS:  501  RATIO:  0.06986027944111776\n",
      "CATA-UXUE :  56   TOTAL WORDS:  416  RATIO:  0.1346153846153846\n",
      "MARTA-UXUE :  56   TOTAL WORDS:  416  RATIO:  0.1346153846153846\n"
     ]
    }
   ],
   "source": [
    "#COMPARING WORDS MARKED nonRELEVANT\n",
    "\n",
    "#TWO PEOPLE AT A TIME\n",
    "print('SHIVANGIE-MARTA : ', len(nonrelevant_shivangi.intersection(nonrelevant_marta)), '  TOTAL WORDS: ', min(len(shivangi[-1]), len(marta[-1])), ' RATIO: ', len(nonrelevant_shivangi.intersection(nonrelevant_marta))/min(len(shivangi[-1]), len(marta[-1])))\n",
    "print('SHIVANGIE-CATA : ', len(nonrelevant_shivangi.intersection(nonrelevant_cata)), '  TOTAL WORDS: ', min(len(shivangi[-1]), len(cata[-1])), ' RATIO: ', len(nonrelevant_shivangi.intersection(nonrelevant_cata))/min(len(shivangi[-1]), len(cata[-1])))\n",
    "print('SHIVANGIE-UXUE : ', len(nonrelevant_shivangi.intersection(nonrelevant_uxue)), '  TOTAL WORDS: ', min(len(shivangi[-1]), len(uxue[-1])), ' RATIO: ', len(nonrelevant_shivangi.intersection(nonrelevant_uxue))/min(len(shivangi[-1]), len(uxue[-1])))\n",
    "print('CATA-MARTA : ', len(nonrelevant_cata.intersection(nonrelevant_marta)), '  TOTAL WORDS: ', min(len(cata[-1]), len(marta[-1])), ' RATIO: ', len(nonrelevant_cata.intersection(nonrelevant_marta))/min(len(cata[-1]), len(marta[-1])))\n",
    "print('CATA-UXUE : ',len(nonrelevant_cata.intersection(nonrelevant_uxue)), '  TOTAL WORDS: ', min(len(cata[-1]), len(uxue[-1])), ' RATIO: ', len(nonrelevant_cata.intersection(nonrelevant_uxue))/min(len(cata[-1]), len(uxue[-1])))\n",
    "print('MARTA-UXUE : ',len(nonrelevant_marta.intersection(nonrelevant_uxue)), '  TOTAL WORDS: ', min(len(marta[-1]), len(uxue[-1])), ' RATIO: ', len(nonrelevant_marta.intersection(nonrelevant_uxue))/min(len(shivangi[-1]), len(uxue[-1])))"
   ]
  },
  {
   "cell_type": "code",
   "execution_count": null,
   "metadata": {},
   "outputs": [],
   "source": []
  },
  {
   "cell_type": "markdown",
   "metadata": {},
   "source": [
    "# UNANIMOUS DECISION"
   ]
  },
  {
   "cell_type": "code",
   "execution_count": 24,
   "metadata": {},
   "outputs": [
    {
     "name": "stdout",
     "output_type": "stream",
     "text": [
      "ALL RELEVANT:  138\n",
      "ALL nonRELEVANT:  23\n"
     ]
    }
   ],
   "source": [
    "print('ALL RELEVANT: ', len(relevant_shivangi.intersection(relevant_marta).intersection(relevant_cata).intersection(relevant_uxue)))\n",
    "print('ALL nonRELEVANT: ', len(nonrelevant_shivangi.intersection(nonrelevant_marta).intersection(nonrelevant_cata).intersection(nonrelevant_uxue)))"
   ]
  },
  {
   "cell_type": "code",
   "execution_count": 18,
   "metadata": {},
   "outputs": [],
   "source": [
    "all_relevant = relevant_shivangi.intersection(relevant_marta).intersection(relevant_cata).intersection(relevant_uxue)"
   ]
  },
  {
   "cell_type": "code",
   "execution_count": 19,
   "metadata": {},
   "outputs": [],
   "source": [
    "N = min(len(shivangi[-1]), len(cata[-1]), len(uxue[-1]), len(marta[-1]))"
   ]
  },
  {
   "cell_type": "code",
   "execution_count": 22,
   "metadata": {},
   "outputs": [],
   "source": [
    "all_ambiguous = 0\n",
    "for i in range(N):\n",
    "    word = shivangi[-1][i][0]\n",
    "    if word in all_relevant:\n",
    "        if shivangi[-1][i][3] == marta[-1][i][3] == cata[-1][i][3] == uxue[-1][i][3]:\n",
    "            all_ambiguous += 1"
   ]
  },
  {
   "cell_type": "code",
   "execution_count": 23,
   "metadata": {},
   "outputs": [
    {
     "data": {
      "text/plain": [
       "34"
      ]
     },
     "execution_count": 23,
     "metadata": {},
     "output_type": "execute_result"
    }
   ],
   "source": [
    "all_ambiguous"
   ]
  },
  {
   "cell_type": "code",
   "execution_count": null,
   "metadata": {},
   "outputs": [],
   "source": []
  },
  {
   "cell_type": "markdown",
   "metadata": {},
   "source": [
    "# ONE POSSIBLE CHOICE "
   ]
  },
  {
   "cell_type": "markdown",
   "metadata": {},
   "source": [
    "I didn't like all the words that were deemed relevant by cata and marta.\n",
    "I did find intersecting it with shivangi made the words better.\n",
    "So for relevance, I've chosen the rule - MARTA & CATA & SHIVANGI"
   ]
  },
  {
   "cell_type": "code",
   "execution_count": 40,
   "metadata": {},
   "outputs": [],
   "source": [
    "chosen_relevant = relevant_cata.intersection(relevant_marta).intersection(relevant_shivangi).intersection(relevant_uxue)"
   ]
  },
  {
   "cell_type": "code",
   "execution_count": 41,
   "metadata": {},
   "outputs": [],
   "source": [
    "N = min(len(shivangi[-1]), len(cata[-1]), len(marta[-1]))\n",
    "relevance_data = {}\n",
    "for i in range(N):\n",
    "    word = shivangi[-1][i][0]\n",
    "    if word in chosen_relevant:\n",
    "        relevance_data[word] = 1\n",
    "    else:\n",
    "        relevance_data[word] = 0"
   ]
  },
  {
   "cell_type": "code",
   "execution_count": 42,
   "metadata": {},
   "outputs": [],
   "source": [
    "with open('relevance_data.json', 'w') as json_file:\n",
    "    json.dump(relevance_data, json_file)"
   ]
  },
  {
   "cell_type": "code",
   "execution_count": null,
   "metadata": {},
   "outputs": [],
   "source": []
  }
 ],
 "metadata": {
  "kernelspec": {
   "display_name": "Python 3",
   "language": "python",
   "name": "python3"
  },
  "language_info": {
   "codemirror_mode": {
    "name": "ipython",
    "version": 3
   },
   "file_extension": ".py",
   "mimetype": "text/x-python",
   "name": "python",
   "nbconvert_exporter": "python",
   "pygments_lexer": "ipython3",
   "version": "3.6.5"
  }
 },
 "nbformat": 4,
 "nbformat_minor": 2
}
