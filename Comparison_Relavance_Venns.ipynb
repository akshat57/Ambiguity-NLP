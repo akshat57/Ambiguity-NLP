{
 "cells": [
  {
   "cell_type": "code",
   "execution_count": 27,
   "metadata": {},
   "outputs": [],
   "source": [
    "import json\n",
    "import matplotlib.pyplot as plt\n",
    "import matplotlib.image as mpimg\n",
    "import spacy\n",
    "from operator import itemgetter\n",
    "import numpy as np\n",
    "from matplotlib_venn import venn2, venn3\n",
    "\n",
    "nlp = spacy.load('en_core_web_sm')"
   ]
  },
  {
   "cell_type": "markdown",
   "metadata": {},
   "source": [
    "# WITHIN NONDESIGNERS"
   ]
  },
  {
   "cell_type": "code",
   "execution_count": 7,
   "metadata": {},
   "outputs": [],
   "source": [
    "f = open('fashion_cleaned-tagged_shivangi.json',) \n",
    "shivangi = json.load(f)\n",
    "\n",
    "g = open('fashion_cleaned-tagged_cata.json',) \n",
    "cata = json.load(g)\n",
    "\n",
    "h = open('fashion_cleaned-tagged_uxue.json',) \n",
    "uxue = json.load(h)"
   ]
  },
  {
   "cell_type": "code",
   "execution_count": 8,
   "metadata": {},
   "outputs": [
    {
     "data": {
      "text/plain": [
       "(505, 501, 416)"
      ]
     },
     "execution_count": 8,
     "metadata": {},
     "output_type": "execute_result"
    }
   ],
   "source": [
    "len(shivangi[-1]), len(cata[-1]), len(uxue[-1])"
   ]
  },
  {
   "cell_type": "code",
   "execution_count": 12,
   "metadata": {},
   "outputs": [
    {
     "name": "stdout",
     "output_type": "stream",
     "text": [
      "0.45913461538461536 0.5408653846153846\n"
     ]
    }
   ],
   "source": [
    "#comparing relevance between all three\n",
    "N = min(len(shivangi[-1]), len(cata[-1]), len(uxue[-1]))\n",
    "\n",
    "same_all = 0\n",
    "different = 0\n",
    "for i in range(N):\n",
    "    if shivangi[-1][i][2] == cata[-1][i][2] and cata[-1][i][2] == uxue[-1][i][2]:\n",
    "        same_all += 1\n",
    "    else:\n",
    "        different += 1\n",
    "        \n",
    "print(same_all/N, different/N)"
   ]
  },
  {
   "cell_type": "code",
   "execution_count": 17,
   "metadata": {},
   "outputs": [
    {
     "name": "stdout",
     "output_type": "stream",
     "text": [
      "Shivangi Cata:  0.654690618762475 0.34530938123752497\n",
      "Shivangi Uxue:  0.6610576923076923 0.3389423076923077\n",
      "Cata Uxue:  0.5889423076923077 0.4110576923076923\n"
     ]
    }
   ],
   "source": [
    "#comparing relevance between Shivangi - Cata\n",
    "N = min(len(shivangi[-1]), len(cata[-1]))\n",
    "\n",
    "same = 0\n",
    "different = 0\n",
    "for i in range(N):\n",
    "    if shivangi[-1][i][2]  == cata[-1][i][2]:\n",
    "        same += 1\n",
    "    else:\n",
    "        different += 1\n",
    "        \n",
    "print('Shivangi Cata: ', same/N, different/N)\n",
    "\n",
    "\n",
    "#comparing relevance between Shivangi Uxue\n",
    "N = min(len(shivangi[-1]), len(uxue[-1]))\n",
    "\n",
    "same = 0\n",
    "different = 0\n",
    "for i in range(N):\n",
    "    if shivangi[-1][i][2]  == uxue[-1][i][2]:\n",
    "        same += 1\n",
    "    else:\n",
    "        different += 1\n",
    "        \n",
    "print('Shivangi Uxue: ', same/N, different/N)\n",
    "\n",
    "\n",
    "#comparing relevance between Cata Uxue\n",
    "N = min(len(cata[-1]), len(uxue[-1]))\n",
    "\n",
    "same = 0\n",
    "different = 0\n",
    "for i in range(N):\n",
    "    if cata[-1][i][2]  == uxue[-1][i][2]:\n",
    "        same += 1\n",
    "    else:\n",
    "        different += 1\n",
    "        \n",
    "print('Cata Uxue: ', same/N, different/N)"
   ]
  },
  {
   "cell_type": "code",
   "execution_count": null,
   "metadata": {},
   "outputs": [],
   "source": []
  },
  {
   "cell_type": "code",
   "execution_count": null,
   "metadata": {},
   "outputs": [],
   "source": []
  },
  {
   "cell_type": "markdown",
   "metadata": {},
   "source": [
    "# COMPARING WITH DESIGNER"
   ]
  },
  {
   "cell_type": "markdown",
   "metadata": {},
   "source": [
    "WE ONLY HAVE ONE DESIGNER AT THE MAKING OF THIS DOCUMENT, MARTA"
   ]
  },
  {
   "cell_type": "code",
   "execution_count": 18,
   "metadata": {},
   "outputs": [],
   "source": [
    "i = open('fashion_cleaned-tagged_marta.json',) \n",
    "marta = json.load(i)"
   ]
  },
  {
   "cell_type": "code",
   "execution_count": 19,
   "metadata": {},
   "outputs": [
    {
     "name": "stdout",
     "output_type": "stream",
     "text": [
      "0.3870192307692308 0.6129807692307693\n"
     ]
    }
   ],
   "source": [
    "#comparing relevance between all three\n",
    "N = min(len(shivangi[-1]), len(cata[-1]), len(uxue[-1]), len(marta[-1]))\n",
    "\n",
    "same_all = 0\n",
    "different = 0\n",
    "for i in range(N):\n",
    "    if shivangi[-1][i][2] == cata[-1][i][2] and cata[-1][i][2] == uxue[-1][i][2] and cata[-1][i][2] == marta[-1][i][2]:\n",
    "        same_all += 1\n",
    "    else:\n",
    "        different += 1\n",
    "        \n",
    "print(same_all/N, different/N)"
   ]
  },
  {
   "cell_type": "code",
   "execution_count": 20,
   "metadata": {},
   "outputs": [
    {
     "name": "stdout",
     "output_type": "stream",
     "text": [
      "Marta Shivangi:  0.6217821782178218 0.3782178217821782\n",
      "Marta Cata:  0.8323353293413174 0.16766467065868262\n",
      "Marta Uxue:  0.5769230769230769 0.4230769230769231\n"
     ]
    }
   ],
   "source": [
    "#comparing relevance Marta and other three\n",
    "N = min(len(marta[-1]), len(shivangi[-1]), )\n",
    "\n",
    "same = 0\n",
    "different = 0\n",
    "for i in range(N):\n",
    "    if marta[-1][i][2] == shivangi[-1][i][2]:\n",
    "        same += 1\n",
    "    else:\n",
    "        different += 1\n",
    "        \n",
    "print('Marta Shivangi: ', same/N, different/N)\n",
    "\n",
    "\n",
    "#########\n",
    "N = min(len(marta[-1]), len(cata[-1]), )\n",
    "\n",
    "same = 0\n",
    "different = 0\n",
    "for i in range(N):\n",
    "    if marta[-1][i][2] == cata[-1][i][2]:\n",
    "        same += 1\n",
    "    else:\n",
    "        different += 1\n",
    "        \n",
    "print('Marta Cata: ', same/N, different/N)\n",
    "\n",
    "\n",
    "#########\n",
    "N = min(len(marta[-1]), len(uxue[-1]), )\n",
    "\n",
    "same = 0\n",
    "different = 0\n",
    "for i in range(N):\n",
    "    if marta[-1][i][2] == uxue[-1][i][2]:\n",
    "        same += 1\n",
    "    else:\n",
    "        different += 1\n",
    "        \n",
    "print('Marta Uxue: ', same/N, different/N)"
   ]
  },
  {
   "cell_type": "code",
   "execution_count": null,
   "metadata": {},
   "outputs": [],
   "source": []
  },
  {
   "cell_type": "markdown",
   "metadata": {},
   "source": [
    "# VENN DIAGRAMS for relevant"
   ]
  },
  {
   "cell_type": "code",
   "execution_count": 29,
   "metadata": {},
   "outputs": [],
   "source": [
    "#N = min(len(shivangi[-1]), len(cata[-1]), len(uxue[-1]), len(marta[-1]))\n",
    "N = len(shivangi[-1])\n",
    "relevant_shivangi = set()\n",
    "for i in range(N):\n",
    "    if shivangi[-1][i][2] == '1':\n",
    "        relevant_shivangi.add(shivangi[-1][i][0])\n",
    "        \n",
    "N = len(cata[-1])\n",
    "relevant_cata = set()\n",
    "for i in range(N):\n",
    "    if cata[-1][i][2] == '1':\n",
    "        relevant_cata.add(cata[-1][i][0])\n",
    "        \n",
    "N = len(uxue[-1])\n",
    "relevant_uxue = set()\n",
    "for i in range(N):\n",
    "    if uxue[-1][i][2] == '1':\n",
    "        relevant_uxue.add(uxue[-1][i][0])\n",
    "\n",
    "N = len(marta[-1])\n",
    "relevant_marta = set()\n",
    "for i in range(N):\n",
    "    if marta[-1][i][2] == '1':\n",
    "        relevant_marta.add(marta[-1][i][0])\n",
    "\n"
   ]
  },
  {
   "cell_type": "code",
   "execution_count": 43,
   "metadata": {},
   "outputs": [
    {
     "data": {
      "image/png": "[encoded data removed]",
      "text/plain": [
       "<Figure size 432x288 with 1 Axes>"
      ]
     },
     "metadata": {},
     "output_type": "display_data"
    }
   ],
   "source": [
    "venn3([relevant_shivangi, relevant_cata, relevant_marta], ('Shivangi', 'Cata', 'Marta'))\n",
    "plt.show()"
   ]
  },
  {
   "cell_type": "code",
   "execution_count": 42,
   "metadata": {},
   "outputs": [
    {
     "data": {
      "image/png": "[encoded data removed]",
      "text/plain": [
       "<Figure size 432x288 with 1 Axes>"
      ]
     },
     "metadata": {},
     "output_type": "display_data"
    }
   ],
   "source": [
    "venn3([relevant_marta, relevant_cata, relevant_uxue], ('Marta', 'Cata', 'Uxue'))\n",
    "plt.show()"
   ]
  },
  {
   "cell_type": "code",
   "execution_count": null,
   "metadata": {},
   "outputs": [],
   "source": []
  },
  {
   "cell_type": "markdown",
   "metadata": {},
   "source": [
    "# VENN DIAGRAMS for non relevant"
   ]
  },
  {
   "cell_type": "code",
   "execution_count": 49,
   "metadata": {},
   "outputs": [],
   "source": [
    "#N = min(len(shivangi[-1]), len(cata[-1]), len(uxue[-1]), len(marta[-1]))\n",
    "N = len(shivangi[-1])\n",
    "relevant_shivangi = set()\n",
    "for i in range(N):\n",
    "    if shivangi[-1][i][2] == '0':\n",
    "        relevant_shivangi.add(shivangi[-1][i][0])\n",
    "        \n",
    "N = len(cata[-1])\n",
    "relevant_cata = set()\n",
    "for i in range(N):\n",
    "    if cata[-1][i][2] == '0':\n",
    "        relevant_cata.add(cata[-1][i][0])\n",
    "        \n",
    "N = len(uxue[-1])\n",
    "relevant_uxue = set()\n",
    "for i in range(N):\n",
    "    if uxue[-1][i][2] == '0':\n",
    "        relevant_uxue.add(uxue[-1][i][0])\n",
    "\n",
    "N = len(marta[-1])\n",
    "relevant_marta = set()\n",
    "for i in range(N):\n",
    "    if marta[-1][i][2] == '0':\n",
    "        relevant_marta.add(marta[-1][i][0])\n",
    "\n",
    "\n"
   ]
  },
  {
   "cell_type": "code",
   "execution_count": 50,
   "metadata": {},
   "outputs": [
    {
     "data": {
      "image/png": "[encoded data removed]",
      "text/plain": [
       "<Figure size 432x288 with 1 Axes>"
      ]
     },
     "metadata": {},
     "output_type": "display_data"
    }
   ],
   "source": [
    "venn3([relevant_shivangi, relevant_cata, relevant_marta], ('Shivangi', 'Cata', 'Marta'))\n",
    "plt.show()"
   ]
  },
  {
   "cell_type": "code",
   "execution_count": 51,
   "metadata": {},
   "outputs": [
    {
     "data": {
      "image/png": "[encoded data removed]",
      "text/plain": [
       "<Figure size 432x288 with 1 Axes>"
      ]
     },
     "metadata": {},
     "output_type": "display_data"
    }
   ],
   "source": [
    "venn3([relevant_uxue, relevant_cata, relevant_marta], ('Uxue', 'Cata', 'Marta'))\n",
    "plt.show()"
   ]
  },
  {
   "cell_type": "code",
   "execution_count": 54,
   "metadata": {},
   "outputs": [
    {
     "data": {
      "image/png": "[encoded data removed]",
      "text/plain": [
       "<Figure size 432x288 with 1 Axes>"
      ]
     },
     "metadata": {},
     "output_type": "display_data"
    }
   ],
   "source": [
    "venn2([relevant_uxue, relevant_shivangi], ('Uxue', 'Shivangi'))\n",
    "plt.show()"
   ]
  },
  {
   "cell_type": "code",
   "execution_count": 56,
   "metadata": {},
   "outputs": [
    {
     "data": {
      "image/png": "[encoded data removed]",
      "text/plain": [
       "<Figure size 432x288 with 1 Axes>"
      ]
     },
     "metadata": {},
     "output_type": "display_data"
    }
   ],
   "source": [
    "venn2([relevant_marta, relevant_cata], ('Marta', 'Cata'))\n",
    "plt.show()"
   ]
  },
  {
   "cell_type": "code",
   "execution_count": 59,
   "metadata": {},
   "outputs": [
    {
     "data": {
      "text/plain": [
       "{'-',\n",
       " '@rapha',\n",
       " 'banyan',\n",
       " 'copyright',\n",
       " 'definitive',\n",
       " 'fastest',\n",
       " 'ffp2',\n",
       " 'financial',\n",
       " 'font',\n",
       " 'gijs+emmy',\n",
       " 'grill',\n",
       " 'hardwearing',\n",
       " 'hi',\n",
       " 'infra',\n",
       " 'invincible',\n",
       " 'later',\n",
       " 'latter',\n",
       " 'lock',\n",
       " 'meteoroid',\n",
       " 'miscast',\n",
       " 'mosquito',\n",
       " 'pie-',\n",
       " 'pugh',\n",
       " 're',\n",
       " 'registered',\n",
       " 'rhino',\n",
       " 'sanaa',\n",
       " 'scan',\n",
       " 'shrugged',\n",
       " 'sleepless',\n",
       " 'stag',\n",
       " 'treacherous',\n",
       " 'undergraduate',\n",
       " 'unrepentant',\n",
       " 'wind-'}"
      ]
     },
     "execution_count": 59,
     "metadata": {},
     "output_type": "execute_result"
    }
   ],
   "source": [
    "relevant_marta.intersection(relevant_cata)"
   ]
  },
  {
   "cell_type": "code",
   "execution_count": 63,
   "metadata": {},
   "outputs": [
    {
     "data": {
      "text/plain": [
       "{'-',\n",
       " '150th',\n",
       " '19th',\n",
       " '2d',\n",
       " '53rd',\n",
       " '58th',\n",
       " 'a.k.a',\n",
       " 'accustomed',\n",
       " 'aerial',\n",
       " 'alphabetical',\n",
       " 'anatomical',\n",
       " 'antithetical',\n",
       " 'automatic',\n",
       " 'avid',\n",
       " 'biological',\n",
       " 'biotech',\n",
       " 'biotechnological',\n",
       " 'cardboard',\n",
       " 'cartesian',\n",
       " 'catastrophic',\n",
       " 'cellulosic',\n",
       " 'closest',\n",
       " 'collectable',\n",
       " 'confectionary',\n",
       " 'congratulatory',\n",
       " 'conscious',\n",
       " 'convinced',\n",
       " 'countless',\n",
       " 'covetable',\n",
       " 'cristian',\n",
       " 'crowded',\n",
       " 'definite',\n",
       " 'deimatic',\n",
       " 'delicious',\n",
       " 'dependable',\n",
       " 'dependent',\n",
       " 'determined',\n",
       " 'drunken',\n",
       " 'dual',\n",
       " 'due',\n",
       " 'easiest',\n",
       " 'ended',\n",
       " 'express',\n",
       " 'façade',\n",
       " 'fastest',\n",
       " 'ffp2',\n",
       " 'foetal',\n",
       " 'font',\n",
       " 'frosted',\n",
       " 'frustrated',\n",
       " 'further',\n",
       " 'gijs+emmy',\n",
       " 'glacier',\n",
       " 'hallucinogenic',\n",
       " 'harshest',\n",
       " 'hazardous',\n",
       " 'hi',\n",
       " 'hinge',\n",
       " 'hungry',\n",
       " 'immediate',\n",
       " 'immovable',\n",
       " 'inclusive',\n",
       " 'indestructible',\n",
       " 'infra',\n",
       " 'interactive',\n",
       " 'intermittent',\n",
       " 'internal',\n",
       " 'interpretive',\n",
       " 'intrigued',\n",
       " 'invincible',\n",
       " 'julian',\n",
       " 'kind',\n",
       " 'later',\n",
       " 'latter',\n",
       " 'mafia',\n",
       " 'marathon',\n",
       " 'mental',\n",
       " 'mere',\n",
       " 'mesopic',\n",
       " 'meteoroid',\n",
       " 'metric',\n",
       " 'mindful',\n",
       " 'mindless',\n",
       " 'miscast',\n",
       " 'mjöll',\n",
       " 'molecular',\n",
       " 'momentous',\n",
       " 'mosquito',\n",
       " 'muted',\n",
       " 'nervous',\n",
       " 'ninth',\n",
       " 'northern',\n",
       " 'omniscient',\n",
       " 'other',\n",
       " 'parabolic',\n",
       " 'pathetic',\n",
       " 'photosynthetic',\n",
       " 'pie-',\n",
       " 'pleasurable',\n",
       " 'prior',\n",
       " 'productivist',\n",
       " 'purest',\n",
       " 'raw',\n",
       " 're',\n",
       " 'referenced',\n",
       " 'registered',\n",
       " 'responsive',\n",
       " 'rhino',\n",
       " 'scan',\n",
       " 'secret',\n",
       " 'sibling',\n",
       " 'sleepless',\n",
       " 'slow',\n",
       " 'solvable',\n",
       " 'stern',\n",
       " 'stuck',\n",
       " 'subsequent',\n",
       " 'treacherous',\n",
       " 'typographic',\n",
       " 'uber',\n",
       " 'undergraduate',\n",
       " 'underprivileged',\n",
       " 'unheard',\n",
       " 'unmistakable',\n",
       " 'unmixed',\n",
       " 'unrepentant',\n",
       " 'unrivalled',\n",
       " 'use',\n",
       " 'vegetative',\n",
       " 'wind-',\n",
       " 'wireless',\n",
       " 'yearly'}"
      ]
     },
     "execution_count": 63,
     "metadata": {},
     "output_type": "execute_result"
    }
   ],
   "source": [
    "relevant_shivangi.intersection(relevant_uxue)"
   ]
  },
  {
   "cell_type": "code",
   "execution_count": null,
   "metadata": {},
   "outputs": [],
   "source": []
  }
 ],
 "metadata": {
  "kernelspec": {
   "display_name": "Python 3",
   "language": "python",
   "name": "python3"
  },
  "language_info": {
   "codemirror_mode": {
    "name": "ipython",
    "version": 3
   },
   "file_extension": ".py",
   "mimetype": "text/x-python",
   "name": "python",
   "nbconvert_exporter": "python",
   "pygments_lexer": "ipython3",
   "version": "3.6.5"
  }
 },
 "nbformat": 4,
 "nbformat_minor": 2
}
