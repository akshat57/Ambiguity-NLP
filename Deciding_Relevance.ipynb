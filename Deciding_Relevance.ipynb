{
 "cells": [
  {
   "cell_type": "code",
   "execution_count": 125,
   "metadata": {},
   "outputs": [],
   "source": [
    "import json\n",
    "import matplotlib.pyplot as plt\n",
    "import matplotlib.image as mpimg\n",
    "import spacy\n",
    "from operator import itemgetter\n",
    "import numpy as np\n",
    "from matplotlib_venn import venn2, venn3\n",
    "from Intro_to_Relavance_Labelling import load_data, get_data\n",
    "\n",
    "nlp = spacy.load('en_core_web_sm')"
   ]
  },
  {
   "cell_type": "code",
   "execution_count": 116,
   "metadata": {},
   "outputs": [
    {
     "name": "stdout",
     "output_type": "stream",
     "text": [
      "Argota: 207 , Cata : 501, Manuel : 521, Marta : 615, Shivangi : 505, Uxue : 416\n"
     ]
    }
   ],
   "source": [
    "'''argota, Na = load_data('FashionData/fashion_cleaned-tagged_argota.json',) \n",
    "cata, Nc = load_data('FashionData/fashion_cleaned-tagged_cata.json',) \n",
    "manuel, Nm = load_data('FashionData/fashion_cleaned-tagged_manuel.json',) \n",
    "marta, Nmt = load_data('FashionData/fashion_cleaned-tagged_marta.json',) \n",
    "shivangi, Ns = load_data('FashionData/fashion_cleaned-tagged_shivangi.json',) \n",
    "uxue, Nu = load_data('FashionData/fashion_cleaned-tagged_uxue.json',) \n",
    "\n",
    "print('Argota: {} , Cata : {}, Manuel : {}, Marta : {}, Shivangi : {}, Uxue : {}'.format(Na, Nc, Nm, Nmt, Ns, Nu))\n",
    "#Not using Argota Labellings\n",
    "\n",
    "relevant_argota , nonrelevant_argota = get_data(argota)\n",
    "relevant_cata , nonrelevant_cata = get_data(cata)\n",
    "relevant_manuel, nonrelevant_manuel = get_data(manuel)\n",
    "relevant_marta , nonrelevant_marta = get_data(marta)\n",
    "relevant_shivangi , nonrelevant_shivangi = get_data(shivangi)\n",
    "relevant_uxue , nonrelevant_uxue = get_data(uxue)\n",
    "\n",
    "all_labels = [relevant_cata , nonrelevant_cata, relevant_manuel, nonrelevant_manuel, relevant_marta , nonrelevant_marta, relevant_shivangi , nonrelevant_shivangi, relevant_uxue , nonrelevant_uxue]'''"
   ]
  },
  {
   "cell_type": "code",
   "execution_count": 74,
   "metadata": {},
   "outputs": [],
   "source": [
    "def calculate_score(word, cata, manuel, marta, shivangi, uxue):\n",
    "    score = 0\n",
    "        \n",
    "    if word in cata:\n",
    "        score += 1\n",
    "        \n",
    "    if word in manuel:\n",
    "        score += 1\n",
    "        \n",
    "    if word in marta:\n",
    "        score += 1\n",
    "        \n",
    "    if word in shivangi:\n",
    "        score += 1\n",
    "        \n",
    "    if word in uxue:\n",
    "        score += 1\n",
    "        \n",
    "    return score\n",
    "    "
   ]
  },
  {
   "cell_type": "code",
   "execution_count": 126,
   "metadata": {},
   "outputs": [],
   "source": [
    "def deciding_relevance(decision_threshold, all_labels, marta):\n",
    "\n",
    "    relevant_cata , nonrelevant_cata, relevant_manuel, nonrelevant_manuel, relevant_marta , nonrelevant_marta, relevant_shivangi , nonrelevant_shivangi, relevant_uxue , nonrelevant_uxue = all_labels\n",
    "    \n",
    "    #Since Marta did the max number of words, we use those\n",
    "    decision_relevant = []\n",
    "    decision_nonrelevant = []\n",
    "\n",
    "    for word, _, _, _ in marta[-1]:\n",
    "        relevant_score = calculate_score(word, relevant_cata, relevant_manuel, relevant_marta, relevant_shivangi, relevant_uxue)\n",
    "        nonrelevant_score = calculate_score(word, nonrelevant_cata, nonrelevant_manuel, nonrelevant_marta, nonrelevant_shivangi, nonrelevant_uxue)\n",
    "\n",
    "        if relevant_score >= decision_threshold:\n",
    "            decision_relevant.append(word)\n",
    "\n",
    "        elif nonrelevant_score >= decision_threshold:\n",
    "            decision_nonrelevant.append(word)\n",
    "\n",
    "    print('Relevant : {}, NonRelevant : {}'.format(len(decision_relevant), len(decision_nonrelevant)))\n",
    "    \n",
    "    return decision_relevant, decision_nonrelevant"
   ]
  },
  {
   "cell_type": "code",
   "execution_count": 124,
   "metadata": {},
   "outputs": [],
   "source": [
    "#decision_relevant, decision_non_relevant = deciding_relevance(3, all_labels)"
   ]
  },
  {
   "cell_type": "code",
   "execution_count": null,
   "metadata": {},
   "outputs": [],
   "source": []
  }
 ],
 "metadata": {
  "kernelspec": {
   "display_name": "Python 3",
   "language": "python",
   "name": "python3"
  },
  "language_info": {
   "codemirror_mode": {
    "name": "ipython",
    "version": 3
   },
   "file_extension": ".py",
   "mimetype": "text/x-python",
   "name": "python",
   "nbconvert_exporter": "python",
   "pygments_lexer": "ipython3",
   "version": "3.6.5"
  }
 },
 "nbformat": 4,
 "nbformat_minor": 2
}
