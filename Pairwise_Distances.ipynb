{
 "cells": [
  {
   "cell_type": "code",
   "execution_count": 1,
   "metadata": {},
   "outputs": [
    {
     "name": "stdout",
     "output_type": "stream",
     "text": [
      "Argota: 207 , Cata : 501, Manuel : 521, Marta : 615, Shivangi : 505, Uxue : 416\n",
      "ALL RELEVANT:  130\n",
      "ALL nonRELEVANT:  22\n"
     ]
    }
   ],
   "source": [
    "import json\n",
    "import matplotlib.pyplot as plt\n",
    "import matplotlib.image as mpimg\n",
    "import spacy\n",
    "from operator import itemgetter\n",
    "import numpy as np\n",
    "from matplotlib_venn import venn2, venn3\n",
    "from Intro_to_Relavance_Labelling import load_data, get_data\n",
    "from Deciding_Relevance import calculate_score, deciding_relevance\n",
    "import io\n",
    "\n",
    "import matplotlib.pyplot as plt\n",
    "from sklearn.cluster import KMeans\n",
    "import random\n",
    "import seaborn as sns\n",
    "\n",
    "nlp = spacy.load('en_core_web_sm')"
   ]
  },
  {
   "cell_type": "code",
   "execution_count": 2,
   "metadata": {},
   "outputs": [
    {
     "name": "stdout",
     "output_type": "stream",
     "text": [
      "Argota: 207 , Cata : 501, Manuel : 521, Marta : 615, Shivangi : 505, Uxue : 416\n",
      "Relevant : 369, NonRelevant : 117\n"
     ]
    }
   ],
   "source": [
    "argota, Na = load_data('FashionData/fashion_cleaned-tagged_argota.json',) \n",
    "cata, Nc = load_data('FashionData/fashion_cleaned-tagged_cata.json',) \n",
    "manuel, Nm = load_data('FashionData/fashion_cleaned-tagged_manuel.json',) \n",
    "marta, Nmt = load_data('FashionData/fashion_cleaned-tagged_marta.json',) \n",
    "shivangi, Ns = load_data('FashionData/fashion_cleaned-tagged_shivangi.json',) \n",
    "uxue, Nu = load_data('FashionData/fashion_cleaned-tagged_uxue.json',) \n",
    "\n",
    "print('Argota: {} , Cata : {}, Manuel : {}, Marta : {}, Shivangi : {}, Uxue : {}'.format(Na, Nc, Nm, Nmt, Ns, Nu))\n",
    "#Not using Argota Labellings\n",
    "\n",
    "relevant_argota , nonrelevant_argota = get_data(argota)\n",
    "relevant_cata , nonrelevant_cata = get_data(cata)\n",
    "relevant_manuel, nonrelevant_manuel = get_data(manuel)\n",
    "relevant_marta , nonrelevant_marta = get_data(marta)\n",
    "relevant_shivangi , nonrelevant_shivangi = get_data(shivangi)\n",
    "relevant_uxue , nonrelevant_uxue = get_data(uxue)\n",
    "\n",
    "all_labels = [relevant_cata , nonrelevant_cata, relevant_manuel, nonrelevant_manuel, relevant_marta , nonrelevant_marta, relevant_shivangi , nonrelevant_shivangi, relevant_uxue , nonrelevant_uxue]\n",
    "decision_relevant, decision_nonrelevant = deciding_relevance(3, all_labels, marta)"
   ]
  },
  {
   "cell_type": "code",
   "execution_count": 81,
   "metadata": {},
   "outputs": [],
   "source": [
    "with io.open('glove.6B.100d.txt', 'r', encoding='utf8') as f:\n",
    "    glove_file = f.read()\n",
    "    \n",
    "glove_sentences = glove_file.splitlines()\n",
    "glove_vocab = {}\n",
    "for sentence in glove_sentences:\n",
    "    word = sentence.split()[0]\n",
    "    embedding = np.array(sentence.split()[1:], dtype = float)\n",
    "    glove_vocab[word] = embedding"
   ]
  },
  {
   "cell_type": "code",
   "execution_count": 82,
   "metadata": {},
   "outputs": [
    {
     "name": "stdout",
     "output_type": "stream",
     "text": [
      "Relevant : 357, NonRelevant : 107\n"
     ]
    }
   ],
   "source": [
    "relevant_vectors = []\n",
    "for word in decision_relevant:\n",
    "    if word in glove_vocab:\n",
    "        relevant_vectors.append(glove_vocab[word])\n",
    "        \n",
    "nonrelevant_vectors = []\n",
    "for word in decision_nonrelevant:\n",
    "    if word in glove_vocab:\n",
    "        nonrelevant_vectors.append(glove_vocab[word])\n",
    "        \n",
    "print('Relevant : {}, NonRelevant : {}'.format(len(relevant_vectors), len(nonrelevant_vectors)))"
   ]
  },
  {
   "cell_type": "code",
   "execution_count": 83,
   "metadata": {},
   "outputs": [],
   "source": [
    "def distance(v1, v2):\n",
    "    return np.sqrt(np.sum((v1-v2)**2))"
   ]
  },
  {
   "cell_type": "code",
   "execution_count": 84,
   "metadata": {},
   "outputs": [],
   "source": [
    "def inclass_distance(vectors):\n",
    "    in_classdistance = 0\n",
    "    counter = 0\n",
    "\n",
    "    for i, word in enumerate(vectors):\n",
    "        if i < len(vectors) - 1:\n",
    "            for nextword in vectors[i+1:]:\n",
    "                in_classdistance += distance(word, nextword)\n",
    "                counter += 1\n",
    "    \n",
    "    return in_classdistance/counter"
   ]
  },
  {
   "cell_type": "code",
   "execution_count": 85,
   "metadata": {},
   "outputs": [],
   "source": [
    "def between_class_distance(vector1, vector2):\n",
    "    btw_classdistance = 0\n",
    "    counter = 0\n",
    "\n",
    "    for word in vector1:\n",
    "        for nextword in vector2:\n",
    "            btw_classdistance += distance(word, nextword)\n",
    "            counter += 1\n",
    "    \n",
    "    return btw_classdistance/counter"
   ]
  },
  {
   "cell_type": "code",
   "execution_count": 35,
   "metadata": {},
   "outputs": [
    {
     "data": {
      "text/plain": [
       "(6.723569875288294, 6.814214537700565)"
      ]
     },
     "execution_count": 35,
     "metadata": {},
     "output_type": "execute_result"
    }
   ],
   "source": [
    "inclass_distance(relevant_vectors), inclass_distance(nonrelevant_vectors)"
   ]
  },
  {
   "cell_type": "code",
   "execution_count": 36,
   "metadata": {},
   "outputs": [
    {
     "data": {
      "text/plain": [
       "6.815123890677137"
      ]
     },
     "execution_count": 36,
     "metadata": {},
     "output_type": "execute_result"
    }
   ],
   "source": [
    "between_class_distance(relevant_vectors, nonrelevant_vectors)"
   ]
  },
  {
   "cell_type": "code",
   "execution_count": 37,
   "metadata": {},
   "outputs": [
    {
     "data": {
      "text/plain": [
       "'The between class distances and the inclass distances are almost the same and there.\\nThere is hardly any way to differentiate between the two set of words.'"
      ]
     },
     "execution_count": 37,
     "metadata": {},
     "output_type": "execute_result"
    }
   ],
   "source": [
    "'''The between class distances and the inclass distances are almost the same and there.\n",
    "There is hardly any way to differentiate between the two set of words.'''"
   ]
  },
  {
   "cell_type": "code",
   "execution_count": null,
   "metadata": {},
   "outputs": [],
   "source": []
  },
  {
   "cell_type": "markdown",
   "metadata": {},
   "source": [
    "# PROVIDING CONTEXT : FINDING DISTANCE FROM WORD fashion"
   ]
  },
  {
   "cell_type": "code",
   "execution_count": 86,
   "metadata": {},
   "outputs": [
    {
     "name": "stdout",
     "output_type": "stream",
     "text": [
      "Relevant: 6.949044301172386\n",
      "NonRelevant:  7.035572912946591\n"
     ]
    }
   ],
   "source": [
    "contexts = ['fashion', 'design', 'designer', 'designing', 'art']\n",
    "\n",
    "r_fashion = []\n",
    "\n",
    "for word in relevant_vectors:\n",
    "    dist = 0\n",
    "    for context in contexts:\n",
    "        dist +=  distance(word, glove_vocab[context])\n",
    "        \n",
    "    dist /= len(contexts)\n",
    "    r_fashion.append(dist)\n",
    "    \n",
    "print('Relevant:', sum(r_fashion)/len(r_fashion))\n",
    "\n",
    "nr_fashion = []\n",
    "\n",
    "for word in nonrelevant_vectors:\n",
    "    dist = 0\n",
    "    for context in contexts:\n",
    "        dist +=  distance(word, glove_vocab[context])\n",
    "        \n",
    "    dist /= len(contexts)\n",
    "    nr_fashion.append(dist)\n",
    "    counter += 1\n",
    "    \n",
    "print('NonRelevant: ', sum(nr_fashion)/len(nr_fashion))"
   ]
  },
  {
   "cell_type": "code",
   "execution_count": 87,
   "metadata": {},
   "outputs": [
    {
     "data": {
      "text/plain": [
       "<matplotlib.axes._subplots.AxesSubplot at 0x13786ac88>"
      ]
     },
     "execution_count": 87,
     "metadata": {},
     "output_type": "execute_result"
    },
    {
     "data": {
      "image/png": "[encoded data removed]",
      "text/plain": [
       "<Figure size 432x288 with 1 Axes>"
      ]
     },
     "metadata": {},
     "output_type": "display_data"
    }
   ],
   "source": [
    "sns.distplot(r_fashion)\n",
    "sns.distplot(nr_fashion)"
   ]
  },
  {
   "cell_type": "code",
   "execution_count": 56,
   "metadata": {},
   "outputs": [
    {
     "data": {
      "text/plain": [
       "True"
      ]
     },
     "execution_count": 56,
     "metadata": {},
     "output_type": "execute_result"
    }
   ],
   "source": [
    "'artist' in glove_vocab"
   ]
  },
  {
   "cell_type": "code",
   "execution_count": null,
   "metadata": {},
   "outputs": [],
   "source": [
    "context = ['fashion', 'design', 'designer', 'art']"
   ]
  }
 ],
 "metadata": {
  "kernelspec": {
   "display_name": "Python 3",
   "language": "python",
   "name": "python3"
  },
  "language_info": {
   "codemirror_mode": {
    "name": "ipython",
    "version": 3
   },
   "file_extension": ".py",
   "mimetype": "text/x-python",
   "name": "python",
   "nbconvert_exporter": "python",
   "pygments_lexer": "ipython3",
   "version": "3.6.5"
  }
 },
 "nbformat": 4,
 "nbformat_minor": 2
}
