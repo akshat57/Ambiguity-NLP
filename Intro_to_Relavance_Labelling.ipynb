{
 "cells": [
  {
   "cell_type": "code",
   "execution_count": 1,
   "metadata": {},
   "outputs": [],
   "source": [
    "import json\n",
    "import matplotlib.pyplot as plt\n",
    "import matplotlib.image as mpimg\n",
    "import spacy\n",
    "from operator import itemgetter\n",
    "import numpy as np\n",
    "from matplotlib_venn import venn2, venn3\n",
    "\n",
    "nlp = spacy.load('en_core_web_sm')"
   ]
  },
  {
   "cell_type": "code",
   "execution_count": 21,
   "metadata": {},
   "outputs": [],
   "source": [
    "def load_data(location):\n",
    "    '''This function loads the data and finds the number of words labelled by the labeller'''\n",
    "    \n",
    "    f = open(location) \n",
    "    person = json.load(f)\n",
    "    N = len(person[-1])\n",
    "    \n",
    "    return person, N\n",
    "\n",
    "\n",
    "def get_data(person):\n",
    "    '''This function gets words marked relevant and non-relevant by the labeller'''\n",
    "    \n",
    "    N = len(person[-1])\n",
    "    \n",
    "    relevant = set()\n",
    "    for i in range(N):\n",
    "        if person[-1][i][2] == '1':\n",
    "            relevant.add(person[-1][i][0])\n",
    "            \n",
    "    nonrelevant = set()\n",
    "    for i in range(N):\n",
    "        if person[-1][i][2] == '0':\n",
    "            nonrelevant.add(person[-1][i][0])\n",
    "            \n",
    "    return relevant, nonrelevant\n",
    "            \n",
    "            \n",
    "    "
   ]
  },
  {
   "cell_type": "code",
   "execution_count": 20,
   "metadata": {},
   "outputs": [
    {
     "name": "stdout",
     "output_type": "stream",
     "text": [
      "Argota: 207 , Cata : 207, Manuel : 207, Marta : 207, Shivangi : 207, Uxue : 207\n"
     ]
    }
   ],
   "source": [
    "argota, Na = load_data('FashionData/fashion_cleaned-tagged_argota.json',) \n",
    "cata, Nc = load_data('FashionData/fashion_cleaned-tagged_cata.json',) \n",
    "manuel, Nm = load_data('FashionData/fashion_cleaned-tagged_manuel.json',) \n",
    "marta, Nmt = load_data('FashionData/fashion_cleaned-tagged_marta.json',) \n",
    "shivangi, Ns = load_data('FashionData/fashion_cleaned-tagged_shivangi.json',) \n",
    "uxue, Nu = load_data('FashionData/fashion_cleaned-tagged_uxue.json',) \n",
    "\n",
    "print('Argota: {} , Cata : {}, Manuel : {}, Marta : {}, Shivangi : {}, Uxue : {}'.format(Na, Nc, Nm, Nmt, Ns, Nu))\n",
    "#Not using Argota Labellings"
   ]
  },
  {
   "cell_type": "code",
   "execution_count": 22,
   "metadata": {},
   "outputs": [],
   "source": [
    "relevant_argota , nonrelevant_argota = get_data(argota)\n",
    "relevant_cata , nonrelevant_cata = get_data(cata)\n",
    "relevant_manuel, nonrelevant_manuel = get_data(manuel)\n",
    "relevant_marta , nonrelevant_marta = get_data(marta)\n",
    "relevant_shivangi , nonrelevant_shivangi = get_data(shivangi)\n",
    "relevant_uxue , nonrelevant_uxue = get_data(uxue)"
   ]
  },
  {
   "cell_type": "code",
   "execution_count": 23,
   "metadata": {},
   "outputs": [
    {
     "name": "stdout",
     "output_type": "stream",
     "text": [
      "SHIVANGI - RELEVANT:  0.5544554455445545  nonRELEVANT:  0.44554455445544555\n",
      "MARTA - RELEVANT:  0.8292682926829268  nonRELEVANT:  0.16910569105691056\n",
      "CATA - RELEVANT:  0.8542914171656687  nonRELEVANT:  0.14570858283433133\n",
      "UXUE - RELEVANT:  0.4735576923076923  nonRELEVANT:  0.5240384615384616\n",
      "MANUEL - RELEVANT:  0.7159309021113244  nonRELEVANT:  0.2840690978886756\n"
     ]
    }
   ],
   "source": [
    "'''print('SHIVANGI - RELEVANT: ', len(relevant_shivangi)/len(shivangi[-1]), ' nonRELEVANT: ', len(nonrelevant_shivangi)/len(shivangi[-1]))\n",
    "print('MARTA - RELEVANT: ', len(relevant_marta)/len(marta[-1]), ' nonRELEVANT: ', len(nonrelevant_marta)/len(marta[-1]))\n",
    "print('CATA - RELEVANT: ', len(relevant_cata)/len(cata[-1]), ' nonRELEVANT: ', len(nonrelevant_cata)/len(cata[-1]))\n",
    "print('UXUE - RELEVANT: ', len(relevant_uxue)/len(uxue[-1]), ' nonRELEVANT: ', len(nonrelevant_uxue)/len(uxue[-1]))\n",
    "print('MANUEL - RELEVANT: ', len(relevant_manuel)/len(manuel[-1]), ' nonRELEVANT: ', len(nonrelevant_manuel)/len(manuel[-1]))'''"
   ]
  },
  {
   "cell_type": "code",
   "execution_count": 10,
   "metadata": {},
   "outputs": [
    {
     "data": {
      "text/plain": [
       "'This clearly shows we have two groups of people. \\nShivangi and Uxue didnt find a lot of words relevant. Marta, Cata and Manuel did.  '"
      ]
     },
     "execution_count": 10,
     "metadata": {},
     "output_type": "execute_result"
    }
   ],
   "source": [
    "'''This clearly shows we have two groups of people. \n",
    "Shivangi and Uxue didnt find a lot of words relevant. Marta, Cata and Manuel did.  '''"
   ]
  },
  {
   "cell_type": "markdown",
   "metadata": {},
   "source": [
    "# UNANIMOUS DECISION"
   ]
  },
  {
   "cell_type": "code",
   "execution_count": 24,
   "metadata": {},
   "outputs": [
    {
     "name": "stdout",
     "output_type": "stream",
     "text": [
      "ALL RELEVANT:  130\n",
      "ALL nonRELEVANT:  22\n"
     ]
    }
   ],
   "source": [
    "all_relevant = relevant_shivangi.intersection(relevant_marta).intersection(relevant_cata).intersection(relevant_uxue).intersection(relevant_manuel)\n",
    "all_nonrelevant = nonrelevant_shivangi.intersection(nonrelevant_marta).intersection(nonrelevant_cata).intersection(nonrelevant_uxue).intersection(nonrelevant_manuel)\n",
    "print('ALL RELEVANT: ', len(all_relevant))\n",
    "print('ALL nonRELEVANT: ', len(all_nonrelevant))"
   ]
  },
  {
   "cell_type": "code",
   "execution_count": 11,
   "metadata": {},
   "outputs": [
    {
     "data": {
      "text/plain": [
       "'There are 130 words all the 5 people think are relevant, and 22 words everyone thinks are non-relevant.\\nLets look at those words'"
      ]
     },
     "execution_count": 11,
     "metadata": {},
     "output_type": "execute_result"
    }
   ],
   "source": [
    "'''There are 130 words all the 5 people think are relevant, and 22 words everyone thinks are non-relevant.\n",
    "Lets look at those words'''"
   ]
  },
  {
   "cell_type": "code",
   "execution_count": 17,
   "metadata": {},
   "outputs": [
    {
     "data": {
      "text/plain": [
       "{'-',\n",
       " 'fastest',\n",
       " 'ffp2',\n",
       " 'font',\n",
       " 'gijs+emmy',\n",
       " 'hi',\n",
       " 'infra',\n",
       " 'invincible',\n",
       " 'later',\n",
       " 'latter',\n",
       " 'miscast',\n",
       " 'mosquito',\n",
       " 'pie-',\n",
       " 're',\n",
       " 'registered',\n",
       " 'rhino',\n",
       " 'scan',\n",
       " 'sleepless',\n",
       " 'treacherous',\n",
       " 'undergraduate',\n",
       " 'unrepentant',\n",
       " 'wind-'}"
      ]
     },
     "execution_count": 17,
     "metadata": {},
     "output_type": "execute_result"
    }
   ],
   "source": [
    "all_nonrelevant"
   ]
  },
  {
   "cell_type": "code",
   "execution_count": 18,
   "metadata": {},
   "outputs": [
    {
     "data": {
      "text/plain": [
       "{'abstract',\n",
       " 'adjustable',\n",
       " 'african',\n",
       " 'alternative',\n",
       " 'androgynous',\n",
       " 'antique',\n",
       " 'balkan',\n",
       " 'barest',\n",
       " 'basic',\n",
       " 'biomaterial',\n",
       " 'black',\n",
       " 'bottomless',\n",
       " 'chameleonic',\n",
       " 'chic',\n",
       " 'cleaner',\n",
       " 'compressed',\n",
       " 'cool',\n",
       " 'creamy',\n",
       " 'cuff',\n",
       " 'cute',\n",
       " 'cyan',\n",
       " 'deep',\n",
       " 'defective',\n",
       " 'detachable',\n",
       " 'dior',\n",
       " 'dirty',\n",
       " 'discrete',\n",
       " 'distinguishable',\n",
       " 'distracting',\n",
       " 'dreary',\n",
       " 'dualistic',\n",
       " 'elaborate',\n",
       " 'elastic',\n",
       " 'enjoyable',\n",
       " 'european',\n",
       " 'eyewear',\n",
       " 'fab',\n",
       " 'fashionable',\n",
       " 'fat',\n",
       " 'fit',\n",
       " 'flecked',\n",
       " 'flexible',\n",
       " 'futuristic',\n",
       " 'gala',\n",
       " 'gentle',\n",
       " 'graphic',\n",
       " 'grotesque',\n",
       " 'handcrafted',\n",
       " 'heavy',\n",
       " 'homemade',\n",
       " 'impressive',\n",
       " 'informal',\n",
       " 'inimitable',\n",
       " 'inorganic',\n",
       " 'jagged',\n",
       " 'jamaican',\n",
       " 'lebanese',\n",
       " 'long',\n",
       " 'mayan',\n",
       " 'mediaeval',\n",
       " 'medieval',\n",
       " 'milanese',\n",
       " 'miniaturised',\n",
       " 'mint',\n",
       " 'modernist',\n",
       " 'modest',\n",
       " 'monotonous',\n",
       " 'mythical',\n",
       " 'naked',\n",
       " 'natural',\n",
       " 'neat',\n",
       " 'old',\n",
       " 'olive',\n",
       " 'ornate',\n",
       " 'outfit',\n",
       " 'outsize',\n",
       " 'paramilitary',\n",
       " 'patriotic',\n",
       " 'petite',\n",
       " 'pink',\n",
       " 'polymorphic',\n",
       " 'poor',\n",
       " 'postmodern',\n",
       " 'pristine',\n",
       " 'punched',\n",
       " 'recent',\n",
       " 'relaxing',\n",
       " 'repeating',\n",
       " 'repellent',\n",
       " 'resilient',\n",
       " 'reversible',\n",
       " 'roman',\n",
       " 'salvaged',\n",
       " 'sandal',\n",
       " 'sari',\n",
       " 'scarlet',\n",
       " 'selective',\n",
       " 'sensational',\n",
       " 'serbian',\n",
       " 'sharp',\n",
       " 'short',\n",
       " 'silhouetted',\n",
       " 'slim',\n",
       " 'soft',\n",
       " 'spherical',\n",
       " 'split',\n",
       " 'stained',\n",
       " 'striped',\n",
       " 'stuffed',\n",
       " 'subversive',\n",
       " 'superb',\n",
       " 'supermodern',\n",
       " 'transparent',\n",
       " 'tribal',\n",
       " 'tubular',\n",
       " 'tunisian',\n",
       " 'ukrainian',\n",
       " 'ultracompacted',\n",
       " 'unfold',\n",
       " 'uniqueness',\n",
       " 'unusual',\n",
       " 'victorian',\n",
       " 'wavy',\n",
       " 'welcoming',\n",
       " 'widened',\n",
       " 'widest',\n",
       " 'wool',\n",
       " 'woolen',\n",
       " 'worst',\n",
       " 'young'}"
      ]
     },
     "execution_count": 18,
     "metadata": {},
     "output_type": "execute_result"
    }
   ],
   "source": [
    "all_relevant"
   ]
  },
  {
   "cell_type": "code",
   "execution_count": null,
   "metadata": {},
   "outputs": [],
   "source": []
  }
 ],
 "metadata": {
  "kernelspec": {
   "display_name": "Python 3",
   "language": "python",
   "name": "python3"
  },
  "language_info": {
   "codemirror_mode": {
    "name": "ipython",
    "version": 3
   },
   "file_extension": ".py",
   "mimetype": "text/x-python",
   "name": "python",
   "nbconvert_exporter": "python",
   "pygments_lexer": "ipython3",
   "version": "3.6.5"
  }
 },
 "nbformat": 4,
 "nbformat_minor": 2
}
